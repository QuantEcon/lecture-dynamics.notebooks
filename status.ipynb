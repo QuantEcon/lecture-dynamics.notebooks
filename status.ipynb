{
 "cells": [
  {
   "cell_type": "markdown",
   "id": "bb414040",
   "metadata": {},
   "source": [
    "# Execution Statistics\n",
    "\n",
    "This table contains the latest execution statistics.\n",
    "\n",
    "[](https://dynamics.quantecon.org/BCG_complete_mkts.html)[](https://dynamics.quantecon.org/BCG_incomplete_mkts.html)[](https://dynamics.quantecon.org/asset_pricing_lph.html)[](https://dynamics.quantecon.org/black_litterman.html)[](https://dynamics.quantecon.org/cake_eating_numerical.html)[](https://dynamics.quantecon.org/cake_eating_problem.html)[](https://dynamics.quantecon.org/career.html)[](https://dynamics.quantecon.org/coleman_policy_iter.html)[](https://dynamics.quantecon.org/egm_policy_iter.html)[](https://dynamics.quantecon.org/ge_arrow.html)[](https://dynamics.quantecon.org/harrison_kreps.html)[](https://dynamics.quantecon.org/ifp.html)[](https://dynamics.quantecon.org/ifp_advanced.html)[](https://dynamics.quantecon.org/intro.html)[](https://dynamics.quantecon.org/inventory_dynamics.html)[](https://dynamics.quantecon.org/jv.html)[](https://dynamics.quantecon.org/kesten_processes.html)[](https://dynamics.quantecon.org/lake_model.html)[](https://dynamics.quantecon.org/lucas_model.html)[](https://dynamics.quantecon.org/markov_asset.html)[](https://dynamics.quantecon.org/mccall_correlated.html)[](https://dynamics.quantecon.org/mccall_fitted_vfi.html)[](https://dynamics.quantecon.org/mccall_model.html)[](https://dynamics.quantecon.org/mccall_model_with_separation.html)[](https://dynamics.quantecon.org/mccall_q.html)[](https://dynamics.quantecon.org/odu.html)[](https://dynamics.quantecon.org/optgrowth.html)[](https://dynamics.quantecon.org/optgrowth_fast.html)[](https://dynamics.quantecon.org/orth_proj.html)[](https://dynamics.quantecon.org/samuelson.html)[](https://dynamics.quantecon.org/sir_model.html)[](https://dynamics.quantecon.org/.html)[](https://dynamics.quantecon.org/troubleshooting.html)[](https://dynamics.quantecon.org/wealth_dynamics.html)[](https://dynamics.quantecon.org/zreferences.html)|Document|Modified|Method|Run Time (s)|Status|\n",
    "|:------------------:|:------------------:|:------------------:|:------------------:|:------------------:|\n",
    "|BCG_complete_mkts|2024-01-29 01:00|cache|53.04|✅|\n",
    "|BCG_incomplete_mkts|2024-01-29 01:01|cache|80.67|✅|\n",
    "|asset_pricing_lph|2024-01-29 01:01|cache|2.46|✅|\n",
    "|black_litterman|2024-01-29 01:02|cache|32.67|✅|\n",
    "|cake_eating_numerical|2024-01-29 01:02|cache|19.51|✅|\n",
    "|cake_eating_problem|2024-01-29 01:02|cache|1.73|✅|\n",
    "|career|2024-01-29 01:02|cache|13.69|✅|\n",
    "|coleman_policy_iter|2024-01-29 01:03|cache|15.66|✅|\n",
    "|egm_policy_iter|2024-01-29 01:03|cache|7.78|✅|\n",
    "|ge_arrow|2024-01-29 01:03|cache|1.85|✅|\n",
    "|harrison_kreps|2024-01-29 01:03|cache|5.58|✅|\n",
    "|ifp|2024-01-29 01:03|cache|25.48|✅|\n",
    "|ifp_advanced|2024-01-29 01:04|cache|18.88|✅|\n",
    "|intro|2024-01-29 01:04|cache|0.94|✅|\n",
    "|inventory_dynamics|2024-01-29 01:04|cache|9.51|✅|\n",
    "|jv|2024-01-29 01:04|cache|13.6|✅|\n",
    "|kesten_processes|2024-01-29 01:05|cache|58.34|✅|\n",
    "|lake_model|2024-01-29 01:05|cache|12.47|✅|\n",
    "|lucas_model|2024-01-29 01:05|cache|9.31|✅|\n",
    "|markov_asset|2024-01-29 01:05|cache|6.81|✅|\n",
    "|mccall_correlated|2024-01-29 01:07|cache|72.46|✅|\n",
    "|mccall_fitted_vfi|2024-01-29 01:07|cache|13.2|✅|\n",
    "|mccall_model|2024-01-29 01:07|cache|14.35|✅|\n",
    "|mccall_model_with_separation|2024-01-29 01:07|cache|8.74|✅|\n",
    "|mccall_q|2024-01-29 01:08|cache|16.26|✅|\n",
    "|odu|2024-01-29 01:08|cache|52.16|✅|\n",
    "|optgrowth|2024-01-29 01:09|cache|46.73|✅|\n",
    "|optgrowth_fast|2024-01-29 01:10|cache|26.61|✅|\n",
    "|orth_proj|2024-01-29 01:10|cache|1.02|✅|\n",
    "|samuelson|2024-01-29 01:10|cache|11.71|✅|\n",
    "|sir_model|2024-01-29 01:10|cache|2.64|✅|\n",
    "|status|2024-01-29 01:04|cache|0.94|✅|\n",
    "|troubleshooting|2024-01-29 01:04|cache|0.94|✅|\n",
    "|wealth_dynamics|2024-01-29 01:11|cache|45.63|✅|\n",
    "|zreferences|2024-01-29 01:04|cache|0.94|✅|\n",
    "\n",
    "<a id='status-machine-details'></a>\n",
    "These lectures are built on `linux` instances through `github actions` so are\n",
    "executed using the following [hardware specifications](https://docs.github.com/en/actions/reference/specifications-for-github-hosted-runners#supported-runners-and-hardware-resources)"
   ]
  }
 ],
 "metadata": {
  "date": 1706491648.7938325,
  "filename": "status.md",
  "kernelspec": {
   "display_name": "Python",
   "language": "python3",
   "name": "python3"
  },
  "title": "Execution Statistics"
 },
 "nbformat": 4,
 "nbformat_minor": 5
}