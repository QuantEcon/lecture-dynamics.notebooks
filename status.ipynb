{
 "cells": [
  {
   "cell_type": "markdown",
   "id": "e9c2cbf5",
   "metadata": {},
   "source": [
    "# Execution Statistics\n",
    "\n",
    "This table contains the latest execution statistics.\n",
    "\n",
    "[](https://dynamics.quantecon.org/BCG_complete_mkts.html)[](https://dynamics.quantecon.org/BCG_incomplete_mkts.html)[](https://dynamics.quantecon.org/asset_pricing_lph.html)[](https://dynamics.quantecon.org/black_litterman.html)[](https://dynamics.quantecon.org/cake_eating_numerical.html)[](https://dynamics.quantecon.org/cake_eating_problem.html)[](https://dynamics.quantecon.org/career.html)[](https://dynamics.quantecon.org/coleman_policy_iter.html)[](https://dynamics.quantecon.org/egm_policy_iter.html)[](https://dynamics.quantecon.org/ge_arrow.html)[](https://dynamics.quantecon.org/harrison_kreps.html)[](https://dynamics.quantecon.org/ifp.html)[](https://dynamics.quantecon.org/ifp_advanced.html)[](https://dynamics.quantecon.org/intro.html)[](https://dynamics.quantecon.org/inventory_dynamics.html)[](https://dynamics.quantecon.org/jv.html)[](https://dynamics.quantecon.org/kesten_processes.html)[](https://dynamics.quantecon.org/lake_model.html)[](https://dynamics.quantecon.org/lucas_model.html)[](https://dynamics.quantecon.org/markov_asset.html)[](https://dynamics.quantecon.org/mccall_correlated.html)[](https://dynamics.quantecon.org/mccall_fitted_vfi.html)[](https://dynamics.quantecon.org/mccall_model.html)[](https://dynamics.quantecon.org/mccall_model_with_separation.html)[](https://dynamics.quantecon.org/mccall_q.html)[](https://dynamics.quantecon.org/odu.html)[](https://dynamics.quantecon.org/optgrowth.html)[](https://dynamics.quantecon.org/optgrowth_fast.html)[](https://dynamics.quantecon.org/orth_proj.html)[](https://dynamics.quantecon.org/samuelson.html)[](https://dynamics.quantecon.org/sir_model.html)[](https://dynamics.quantecon.org/.html)[](https://dynamics.quantecon.org/troubleshooting.html)[](https://dynamics.quantecon.org/wealth_dynamics.html)[](https://dynamics.quantecon.org/zreferences.html)|Document|Modified|Method|Run Time (s)|Status|\n",
    "|:------------------:|:------------------:|:------------------:|:------------------:|:------------------:|\n",
    "|BCG_complete_mkts|2024-01-30 05:09|cache|49.2|✅|\n",
    "|BCG_incomplete_mkts|2024-01-30 05:10|cache|80.51|✅|\n",
    "|asset_pricing_lph|2024-01-30 05:10|cache|2.24|✅|\n",
    "|black_litterman|2024-01-30 05:11|cache|32.55|✅|\n",
    "|cake_eating_numerical|2024-01-30 05:11|cache|19.27|✅|\n",
    "|cake_eating_problem|2024-01-30 05:11|cache|1.56|✅|\n",
    "|career|2024-01-30 05:11|cache|13.59|✅|\n",
    "|coleman_policy_iter|2024-01-30 05:12|cache|15.79|✅|\n",
    "|egm_policy_iter|2024-01-30 05:12|cache|7.88|✅|\n",
    "|ge_arrow|2024-01-30 05:12|cache|1.62|✅|\n",
    "|harrison_kreps|2024-01-30 05:12|cache|5.66|✅|\n",
    "|ifp|2024-01-30 05:12|cache|25.24|✅|\n",
    "|ifp_advanced|2024-01-30 05:13|cache|18.86|✅|\n",
    "|intro|2024-01-30 05:13|cache|0.82|✅|\n",
    "|inventory_dynamics|2024-01-30 05:13|cache|9.52|✅|\n",
    "|jv|2024-01-30 05:13|cache|13.48|✅|\n",
    "|kesten_processes|2024-01-30 05:14|cache|57.81|✅|\n",
    "|lake_model|2024-01-30 05:14|cache|12.49|✅|\n",
    "|lucas_model|2024-01-30 05:14|cache|9.25|✅|\n",
    "|markov_asset|2024-01-30 05:14|cache|7.05|✅|\n",
    "|mccall_correlated|2024-01-30 05:16|cache|72.03|✅|\n",
    "|mccall_fitted_vfi|2024-01-30 05:16|cache|13.37|✅|\n",
    "|mccall_model|2024-01-30 05:16|cache|14.28|✅|\n",
    "|mccall_model_with_separation|2024-01-30 05:16|cache|8.84|✅|\n",
    "|mccall_q|2024-01-30 05:16|cache|16.05|✅|\n",
    "|odu|2024-01-30 05:17|cache|50.45|✅|\n",
    "|optgrowth|2024-01-30 05:18|cache|46.43|✅|\n",
    "|optgrowth_fast|2024-01-30 05:19|cache|26.87|✅|\n",
    "|orth_proj|2024-01-30 05:19|cache|1.0|✅|\n",
    "|samuelson|2024-01-30 05:19|cache|11.78|✅|\n",
    "|sir_model|2024-01-30 05:19|cache|2.78|✅|\n",
    "|status|2024-01-30 05:13|cache|0.82|✅|\n",
    "|troubleshooting|2024-01-30 05:13|cache|0.82|✅|\n",
    "|wealth_dynamics|2024-01-30 05:20|cache|45.58|✅|\n",
    "|zreferences|2024-01-30 05:13|cache|0.82|✅|\n",
    "\n",
    "<a id='status-machine-details'></a>\n",
    "These lectures are built on `linux` instances through `github actions` so are\n",
    "executed using the following [hardware specifications](https://docs.github.com/en/actions/reference/specifications-for-github-hosted-runners#supported-runners-and-hardware-resources)"
   ]
  }
 ],
 "metadata": {
  "date": 1706657748.9318175,
  "filename": "status.md",
  "kernelspec": {
   "display_name": "Python",
   "language": "python3",
   "name": "python3"
  },
  "title": "Execution Statistics"
 },
 "nbformat": 4,
 "nbformat_minor": 5
}