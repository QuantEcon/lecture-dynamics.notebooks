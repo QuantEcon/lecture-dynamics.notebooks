{
 "cells": [
  {
   "cell_type": "markdown",
   "id": "141b5544",
   "metadata": {},
   "source": [
    "# Execution Statistics\n",
    "\n",
    "This table contains the latest execution statistics.\n",
    "\n",
    "[](https://dynamics.quantecon.org/BCG_complete_mkts.html)[](https://dynamics.quantecon.org/BCG_incomplete_mkts.html)[](https://dynamics.quantecon.org/asset_pricing_lph.html)[](https://dynamics.quantecon.org/black_litterman.html)[](https://dynamics.quantecon.org/cake_eating_numerical.html)[](https://dynamics.quantecon.org/cake_eating_problem.html)[](https://dynamics.quantecon.org/career.html)[](https://dynamics.quantecon.org/coleman_policy_iter.html)[](https://dynamics.quantecon.org/egm_policy_iter.html)[](https://dynamics.quantecon.org/ge_arrow.html)[](https://dynamics.quantecon.org/harrison_kreps.html)[](https://dynamics.quantecon.org/ifp.html)[](https://dynamics.quantecon.org/ifp_advanced.html)[](https://dynamics.quantecon.org/intro.html)[](https://dynamics.quantecon.org/inventory_dynamics.html)[](https://dynamics.quantecon.org/jv.html)[](https://dynamics.quantecon.org/kesten_processes.html)[](https://dynamics.quantecon.org/lake_model.html)[](https://dynamics.quantecon.org/lucas_model.html)[](https://dynamics.quantecon.org/markov_asset.html)[](https://dynamics.quantecon.org/mccall_correlated.html)[](https://dynamics.quantecon.org/mccall_fitted_vfi.html)[](https://dynamics.quantecon.org/mccall_model.html)[](https://dynamics.quantecon.org/mccall_model_with_separation.html)[](https://dynamics.quantecon.org/mccall_q.html)[](https://dynamics.quantecon.org/odu.html)[](https://dynamics.quantecon.org/optgrowth.html)[](https://dynamics.quantecon.org/optgrowth_fast.html)[](https://dynamics.quantecon.org/orth_proj.html)[](https://dynamics.quantecon.org/samuelson.html)[](https://dynamics.quantecon.org/sir_model.html)[](https://dynamics.quantecon.org/.html)[](https://dynamics.quantecon.org/troubleshooting.html)[](https://dynamics.quantecon.org/wealth_dynamics.html)[](https://dynamics.quantecon.org/zreferences.html)|Document|Modified|Method|Run Time (s)|Status|\n",
    "|:------------------:|:------------------:|:------------------:|:------------------:|:------------------:|\n",
    "|BCG_complete_mkts|2024-01-29 02:02|cache|48.99|✅|\n",
    "|BCG_incomplete_mkts|2024-01-29 02:04|cache|80.22|✅|\n",
    "|asset_pricing_lph|2024-01-29 02:04|cache|2.59|✅|\n",
    "|black_litterman|2024-01-29 02:04|cache|32.45|✅|\n",
    "|cake_eating_numerical|2024-01-29 02:05|cache|19.58|✅|\n",
    "|cake_eating_problem|2024-01-29 02:05|cache|1.71|✅|\n",
    "|career|2024-01-29 02:05|cache|13.6|✅|\n",
    "|coleman_policy_iter|2024-01-29 02:05|cache|15.6|✅|\n",
    "|egm_policy_iter|2024-01-29 02:05|cache|7.84|✅|\n",
    "|ge_arrow|2024-01-29 02:05|cache|1.93|✅|\n",
    "|harrison_kreps|2024-01-29 02:06|cache|5.54|✅|\n",
    "|ifp|2024-01-29 02:06|cache|25.52|✅|\n",
    "|ifp_advanced|2024-01-29 02:06|cache|18.62|✅|\n",
    "|intro|2024-01-29 02:06|cache|0.84|✅|\n",
    "|inventory_dynamics|2024-01-29 02:06|cache|9.71|✅|\n",
    "|jv|2024-01-29 02:07|cache|13.57|✅|\n",
    "|kesten_processes|2024-01-29 02:08|cache|57.48|✅|\n",
    "|lake_model|2024-01-29 02:08|cache|12.92|✅|\n",
    "|lucas_model|2024-01-29 02:08|cache|9.21|✅|\n",
    "|markov_asset|2024-01-29 02:08|cache|7.04|✅|\n",
    "|mccall_correlated|2024-01-29 02:09|cache|70.51|✅|\n",
    "|mccall_fitted_vfi|2024-01-29 02:10|cache|13.47|✅|\n",
    "|mccall_model|2024-01-29 02:10|cache|14.45|✅|\n",
    "|mccall_model_with_separation|2024-01-29 02:10|cache|8.82|✅|\n",
    "|mccall_q|2024-01-29 02:10|cache|16.06|✅|\n",
    "|odu|2024-01-29 02:11|cache|49.69|✅|\n",
    "|optgrowth|2024-01-29 02:12|cache|46.81|✅|\n",
    "|optgrowth_fast|2024-01-29 02:12|cache|26.62|✅|\n",
    "|orth_proj|2024-01-29 02:12|cache|1.13|✅|\n",
    "|samuelson|2024-01-29 02:12|cache|11.76|✅|\n",
    "|sir_model|2024-01-29 02:13|cache|2.71|✅|\n",
    "|status|2024-01-29 02:06|cache|0.84|✅|\n",
    "|troubleshooting|2024-01-29 02:06|cache|0.84|✅|\n",
    "|wealth_dynamics|2024-01-29 02:13|cache|45.52|✅|\n",
    "|zreferences|2024-01-29 02:06|cache|0.84|✅|\n",
    "\n",
    "<a id='status-machine-details'></a>\n",
    "These lectures are built on `linux` instances through `github actions` so are\n",
    "executed using the following [hardware specifications](https://docs.github.com/en/actions/reference/specifications-for-github-hosted-runners#supported-runners-and-hardware-resources)"
   ]
  }
 ],
 "metadata": {
  "date": 1706496355.3488262,
  "filename": "status.md",
  "kernelspec": {
   "display_name": "Python",
   "language": "python3",
   "name": "python3"
  },
  "title": "Execution Statistics"
 },
 "nbformat": 4,
 "nbformat_minor": 5
}