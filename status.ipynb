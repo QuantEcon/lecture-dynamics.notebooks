{
 "cells": [
  {
   "cell_type": "markdown",
   "id": "9d15295e",
   "metadata": {},
   "source": [
    "# Execution Statistics\n",
    "\n",
    "This table contains the latest execution statistics.\n",
    "\n",
    "[](https://dynamics.quantecon.org/BCG_complete_mkts.html)[](https://dynamics.quantecon.org/BCG_incomplete_mkts.html)[](https://dynamics.quantecon.org/asset_pricing_lph.html)[](https://dynamics.quantecon.org/black_litterman.html)[](https://dynamics.quantecon.org/cake_eating_numerical.html)[](https://dynamics.quantecon.org/cake_eating_problem.html)[](https://dynamics.quantecon.org/career.html)[](https://dynamics.quantecon.org/coleman_policy_iter.html)[](https://dynamics.quantecon.org/egm_policy_iter.html)[](https://dynamics.quantecon.org/ge_arrow.html)[](https://dynamics.quantecon.org/harrison_kreps.html)[](https://dynamics.quantecon.org/ifp.html)[](https://dynamics.quantecon.org/ifp_advanced.html)[](https://dynamics.quantecon.org/intro.html)[](https://dynamics.quantecon.org/inventory_dynamics.html)[](https://dynamics.quantecon.org/jv.html)[](https://dynamics.quantecon.org/kesten_processes.html)[](https://dynamics.quantecon.org/lake_model.html)[](https://dynamics.quantecon.org/markov_asset.html)[](https://dynamics.quantecon.org/mccall_correlated.html)[](https://dynamics.quantecon.org/mccall_fitted_vfi.html)[](https://dynamics.quantecon.org/mccall_model.html)[](https://dynamics.quantecon.org/mccall_model_with_separation.html)[](https://dynamics.quantecon.org/mccall_q.html)[](https://dynamics.quantecon.org/odu.html)[](https://dynamics.quantecon.org/optgrowth.html)[](https://dynamics.quantecon.org/optgrowth_fast.html)[](https://dynamics.quantecon.org/orth_proj.html)[](https://dynamics.quantecon.org/samuelson.html)[](https://dynamics.quantecon.org/sir_model.html)[](https://dynamics.quantecon.org/.html)[](https://dynamics.quantecon.org/troubleshooting.html)[](https://dynamics.quantecon.org/wealth_dynamics.html)[](https://dynamics.quantecon.org/zreferences.html)|Document|Modified|Method|Run Time (s)|Status|\n",
    "|:------------------:|:------------------:|:------------------:|:------------------:|:------------------:|\n",
    "|BCG_complete_mkts|2024-04-30 01:40|cache|49.59|✅|\n",
    "|BCG_incomplete_mkts|2024-04-30 01:41|cache|80.64|✅|\n",
    "|asset_pricing_lph|2024-04-30 01:41|cache|2.44|✅|\n",
    "|black_litterman|2024-04-30 02:22|cache|2431.6|✅|\n",
    "|cake_eating_numerical|2024-04-30 02:22|cache|18.68|✅|\n",
    "|cake_eating_problem|2024-04-30 02:22|cache|1.73|✅|\n",
    "|career|2024-04-30 02:22|cache|13.2|✅|\n",
    "|coleman_policy_iter|2024-04-30 02:23|cache|15.63|✅|\n",
    "|egm_policy_iter|2024-04-30 02:23|cache|7.74|✅|\n",
    "|ge_arrow|2024-04-30 02:23|cache|1.8|✅|\n",
    "|harrison_kreps|2024-04-30 02:23|cache|4.94|✅|\n",
    "|ifp|2024-04-30 02:23|cache|25.09|✅|\n",
    "|ifp_advanced|2024-04-30 02:24|cache|19.78|✅|\n",
    "|intro|2024-04-30 02:24|cache|0.95|✅|\n",
    "|inventory_dynamics|2024-04-30 02:24|cache|9.62|✅|\n",
    "|jv|2024-04-30 02:24|cache|14.76|✅|\n",
    "|kesten_processes|2024-04-30 02:25|cache|39.73|✅|\n",
    "|lake_model|2024-04-30 02:25|cache|12.07|✅|\n",
    "|markov_asset|2024-04-30 02:25|cache|6.42|✅|\n",
    "|mccall_correlated|2024-04-30 02:27|cache|96.74|✅|\n",
    "|mccall_fitted_vfi|2024-04-30 02:27|cache|15.24|✅|\n",
    "|mccall_model|2024-04-30 02:27|cache|14.03|✅|\n",
    "|mccall_model_with_separation|2024-04-30 02:27|cache|8.26|✅|\n",
    "|mccall_q|2024-04-30 02:27|cache|15.65|✅|\n",
    "|odu|2024-04-30 02:28|cache|54.64|✅|\n",
    "|optgrowth|2024-04-30 02:29|cache|44.49|✅|\n",
    "|optgrowth_fast|2024-04-30 02:30|cache|38.73|✅|\n",
    "|orth_proj|2024-04-30 02:30|cache|1.06|✅|\n",
    "|samuelson|2024-04-30 02:30|cache|10.93|✅|\n",
    "|sir_model|2024-04-30 02:30|cache|2.77|✅|\n",
    "|status|2024-04-30 02:30|cache|4.96|✅|\n",
    "|troubleshooting|2024-04-30 02:24|cache|0.95|✅|\n",
    "|wealth_dynamics|2024-04-30 02:31|cache|45.71|✅|\n",
    "|zreferences|2024-04-30 02:24|cache|0.95|✅|\n",
    "\n",
    "<a id='status-machine-details'></a>\n",
    "These lectures are built on `linux` instances through `github actions`.\n",
    "\n",
    "These lectures are using the following python version"
   ]
  },
  {
   "cell_type": "code",
   "execution_count": null,
   "id": "dee5212b",
   "metadata": {
    "hide-output": false
   },
   "outputs": [],
   "source": [
    "!python --version"
   ]
  },
  {
   "cell_type": "markdown",
   "id": "75e5baf3",
   "metadata": {},
   "source": [
    "and the following package versions"
   ]
  },
  {
   "cell_type": "code",
   "execution_count": null,
   "id": "159e1d30",
   "metadata": {
    "hide-output": false
   },
   "outputs": [],
   "source": [
    "!conda list"
   ]
  }
 ],
 "metadata": {
  "date": 1714699195.3266673,
  "filename": "status.md",
  "kernelspec": {
   "display_name": "Python",
   "language": "python3",
   "name": "python3"
  },
  "title": "Execution Statistics"
 },
 "nbformat": 4,
 "nbformat_minor": 5
}