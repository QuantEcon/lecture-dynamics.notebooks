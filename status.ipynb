{
 "cells": [
  {
   "cell_type": "markdown",
   "id": "4bdd4c6f",
   "metadata": {},
   "source": [
    "# Execution Statistics\n",
    "\n",
    "This table contains the latest execution statistics.\n",
    "\n",
    "[](https://dynamics.quantecon.org/BCG_complete_mkts.html)[](https://dynamics.quantecon.org/BCG_incomplete_mkts.html)[](https://dynamics.quantecon.org/asset_pricing_lph.html)[](https://dynamics.quantecon.org/black_litterman.html)[](https://dynamics.quantecon.org/cake_eating_numerical.html)[](https://dynamics.quantecon.org/cake_eating_problem.html)[](https://dynamics.quantecon.org/career.html)[](https://dynamics.quantecon.org/coleman_policy_iter.html)[](https://dynamics.quantecon.org/egm_policy_iter.html)[](https://dynamics.quantecon.org/ge_arrow.html)[](https://dynamics.quantecon.org/harrison_kreps.html)[](https://dynamics.quantecon.org/ifp.html)[](https://dynamics.quantecon.org/ifp_advanced.html)[](https://dynamics.quantecon.org/intro.html)[](https://dynamics.quantecon.org/inventory_dynamics.html)[](https://dynamics.quantecon.org/jv.html)[](https://dynamics.quantecon.org/kesten_processes.html)[](https://dynamics.quantecon.org/lake_model.html)[](https://dynamics.quantecon.org/lucas_model.html)[](https://dynamics.quantecon.org/markov_asset.html)[](https://dynamics.quantecon.org/mccall_correlated.html)[](https://dynamics.quantecon.org/mccall_fitted_vfi.html)[](https://dynamics.quantecon.org/mccall_model.html)[](https://dynamics.quantecon.org/mccall_model_with_separation.html)[](https://dynamics.quantecon.org/mccall_q.html)[](https://dynamics.quantecon.org/odu.html)[](https://dynamics.quantecon.org/optgrowth.html)[](https://dynamics.quantecon.org/optgrowth_fast.html)[](https://dynamics.quantecon.org/orth_proj.html)[](https://dynamics.quantecon.org/samuelson.html)[](https://dynamics.quantecon.org/sir_model.html)[](https://dynamics.quantecon.org/.html)[](https://dynamics.quantecon.org/troubleshooting.html)[](https://dynamics.quantecon.org/wealth_dynamics.html)[](https://dynamics.quantecon.org/zreferences.html)|Document|Modified|Method|Run Time (s)|Status|\n",
    "|:------------------:|:------------------:|:------------------:|:------------------:|:------------------:|\n",
    "|BCG_complete_mkts|2024-01-30 02:47|cache|49.69|✅|\n",
    "|BCG_incomplete_mkts|2024-01-30 02:48|cache|80.9|✅|\n",
    "|asset_pricing_lph|2024-01-30 02:48|cache|2.56|✅|\n",
    "|black_litterman|2024-01-30 02:49|cache|31.95|✅|\n",
    "|cake_eating_numerical|2024-01-30 02:49|cache|19.74|✅|\n",
    "|cake_eating_problem|2024-01-30 02:49|cache|1.73|✅|\n",
    "|career|2024-01-30 02:50|cache|13.86|✅|\n",
    "|coleman_policy_iter|2024-01-30 02:50|cache|15.99|✅|\n",
    "|egm_policy_iter|2024-01-30 02:50|cache|7.86|✅|\n",
    "|ge_arrow|2024-01-30 02:50|cache|1.88|✅|\n",
    "|harrison_kreps|2024-01-30 02:50|cache|5.57|✅|\n",
    "|ifp|2024-01-30 02:51|cache|25.61|✅|\n",
    "|ifp_advanced|2024-01-30 02:51|cache|18.85|✅|\n",
    "|intro|2024-01-30 02:51|cache|0.96|✅|\n",
    "|inventory_dynamics|2024-01-30 02:51|cache|9.73|✅|\n",
    "|jv|2024-01-30 02:51|cache|13.79|✅|\n",
    "|kesten_processes|2024-01-30 02:52|cache|57.87|✅|\n",
    "|lake_model|2024-01-30 02:52|cache|12.89|✅|\n",
    "|lucas_model|2024-01-30 02:53|cache|9.08|✅|\n",
    "|markov_asset|2024-01-30 02:53|cache|6.97|✅|\n",
    "|mccall_correlated|2024-01-30 02:54|cache|71.13|✅|\n",
    "|mccall_fitted_vfi|2024-01-30 02:54|cache|13.43|✅|\n",
    "|mccall_model|2024-01-30 02:54|cache|14.33|✅|\n",
    "|mccall_model_with_separation|2024-01-30 02:55|cache|8.84|✅|\n",
    "|mccall_q|2024-01-30 02:55|cache|16.3|✅|\n",
    "|odu|2024-01-30 02:56|cache|52.56|✅|\n",
    "|optgrowth|2024-01-30 02:56|cache|46.1|✅|\n",
    "|optgrowth_fast|2024-01-30 02:57|cache|26.79|✅|\n",
    "|orth_proj|2024-01-30 02:57|cache|1.1|✅|\n",
    "|samuelson|2024-01-30 02:57|cache|11.87|✅|\n",
    "|sir_model|2024-01-30 02:57|cache|2.7|✅|\n",
    "|status|2024-01-30 02:51|cache|0.96|✅|\n",
    "|troubleshooting|2024-01-30 02:51|cache|0.96|✅|\n",
    "|wealth_dynamics|2024-01-30 02:58|cache|45.93|✅|\n",
    "|zreferences|2024-01-30 02:51|cache|0.96|✅|\n",
    "\n",
    "<a id='status-machine-details'></a>\n",
    "These lectures are built on `linux` instances through `github actions` so are\n",
    "executed using the following [hardware specifications](https://docs.github.com/en/actions/reference/specifications-for-github-hosted-runners#supported-runners-and-hardware-resources)"
   ]
  }
 ],
 "metadata": {
  "date": 1706584017.4346979,
  "filename": "status.md",
  "kernelspec": {
   "display_name": "Python",
   "language": "python3",
   "name": "python3"
  },
  "title": "Execution Statistics"
 },
 "nbformat": 4,
 "nbformat_minor": 5
}