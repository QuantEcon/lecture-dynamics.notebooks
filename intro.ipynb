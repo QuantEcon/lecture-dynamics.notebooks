{
 "cells": [
  {
   "cell_type": "markdown",
   "id": "a98e4de0",
   "metadata": {},
   "source": [
    "# Introduction to Economic Dynamics\n",
    "\n",
    "This website presents an introductory set of lectures on economic dynamics."
   ]
  },
  {
   "cell_type": "markdown",
   "id": "22b70568",
   "metadata": {},
   "source": [
    "# Introduction to Dynamics\n",
    "\n",
    "- [Modeling COVID 19](https://dynamics.quantecon.org/sir_model.html)\n",
    "- [Inventory Dynamics](https://dynamics.quantecon.org/inventory_dynamics.html)\n",
    "- [Samuelson Multiplier-Accelerator](https://dynamics.quantecon.org/samuelson.html)\n",
    "- [Kesten Processes and Firm Dynamics](https://dynamics.quantecon.org/kesten_processes.html)\n",
    "- [Wealth Distribution Dynamics](https://dynamics.quantecon.org/wealth_dynamics.html)"
   ]
  },
  {
   "cell_type": "markdown",
   "id": "ee59e508",
   "metadata": {},
   "source": [
    "# Asset Pricing & Finance\n",
    "\n",
    "- [Asset Pricing: Finite State Models](https://dynamics.quantecon.org/markov_asset.html)\n",
    "- [Competitive Equilibria with Arrow Securities](https://dynamics.quantecon.org/ge_arrow.html)\n",
    "- [Heterogeneous Beliefs and Bubbles](https://dynamics.quantecon.org/harrison_kreps.html)\n",
    "- [Orthogonal Projections and Their Applications](https://dynamics.quantecon.org/orth_proj.html)\n",
    "- [Asset Pricing II: The Lucas Asset Pricing Model](https://dynamics.quantecon.org/lucas_model.html)\n",
    "- [Elementary Asset Pricing Theory](https://dynamics.quantecon.org/asset_pricing_lph.html)\n",
    "- [Two Modifications of Mean-Variance Portfolio Theory](https://dynamics.quantecon.org/black_litterman.html)\n",
    "- [Irrelevance of Capital Structures with Complete Markets](https://dynamics.quantecon.org/BCG_complete_mkts.html)\n",
    "- [Equilibrium Capital Structures with Incomplete Markets](https://dynamics.quantecon.org/BCG_incomplete_mkts.html)"
   ]
  },
  {
   "cell_type": "markdown",
   "id": "6dcdc66a",
   "metadata": {},
   "source": [
    "# Search\n",
    "\n",
    "- [Job Search I: The McCall Search Model](https://dynamics.quantecon.org/mccall_model.html)\n",
    "- [Job Search II: Search and Separation](https://dynamics.quantecon.org/mccall_model_with_separation.html)\n",
    "- [Job Search III: Fitted Value Function Iteration](https://dynamics.quantecon.org/mccall_fitted_vfi.html)\n",
    "- [Job Search IV: Correlated Wage Offers](https://dynamics.quantecon.org/mccall_correlated.html)\n",
    "- [Job Search V: Modeling Career Choice](https://dynamics.quantecon.org/career.html)\n",
    "- [Job Search VI: On-the-Job Search](https://dynamics.quantecon.org/jv.html)\n",
    "- [Job Search VII: Search with Learning](https://dynamics.quantecon.org/odu.html)\n",
    "- [Job Search VIII: A McCall Worker Q-Learns](https://dynamics.quantecon.org/mccall_q.html)\n",
    "- [A Lake Model of Employment and Unemployment](https://dynamics.quantecon.org/lake_model.html)"
   ]
  },
  {
   "cell_type": "markdown",
   "id": "c2eb37bc",
   "metadata": {},
   "source": [
    "# Optimal Savings\n",
    "\n",
    "- [Cake Eating I: Introduction to Optimal Saving](https://dynamics.quantecon.org/cake_eating_problem.html)\n",
    "- [Cake Eating II: Numerical Methods](https://dynamics.quantecon.org/cake_eating_numerical.html)\n",
    "- [Optimal Growth I: The Stochastic Optimal Growth Model](https://dynamics.quantecon.org/optgrowth.html)\n",
    "- [Optimal Growth II: Accelerating the Code with Numba](https://dynamics.quantecon.org/optgrowth_fast.html)\n",
    "- [Optimal Growth III: Time Iteration](https://dynamics.quantecon.org/coleman_policy_iter.html)\n",
    "- [Optimal Growth IV: The Endogenous Grid Method](https://dynamics.quantecon.org/egm_policy_iter.html)\n",
    "- [The Income Fluctuation Problem I: Basic Model](https://dynamics.quantecon.org/ifp.html)\n",
    "- [The Income Fluctuation Problem II: Stochastic Returns on Assets](https://dynamics.quantecon.org/ifp_advanced.html)"
   ]
  },
  {
   "cell_type": "markdown",
   "id": "423b766c",
   "metadata": {},
   "source": [
    "# Other\n",
    "\n",
    "- [Troubleshooting](https://dynamics.quantecon.org/troubleshooting.html)\n",
    "- [References](https://dynamics.quantecon.org/zreferences.html)\n",
    "- [Execution Statistics](https://dynamics.quantecon.org/status.html)"
   ]
  }
 ],
 "metadata": {
  "date": 1706584016.70895,
  "filename": "intro.md",
  "kernelspec": {
   "display_name": "Python",
   "language": "python3",
   "name": "python3"
  },
  "title": "Introduction to Economic Dynamics"
 },
 "nbformat": 4,
 "nbformat_minor": 5
}